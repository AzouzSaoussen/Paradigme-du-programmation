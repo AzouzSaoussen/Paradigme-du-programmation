{
  "nbformat": 4,
  "nbformat_minor": 0,
  "metadata": {
    "colab": {
      "provenance": [],
      "collapsed_sections": [],
      "toc_visible": true,
      "authorship_tag": "ABX9TyPax4TzioEp/hd11zztNjjr",
      "include_colab_link": true
    },
    "kernelspec": {
      "name": "python3",
      "display_name": "Python 3"
    },
    "language_info": {
      "name": "python"
    }
  },
  "cells": [
    {
      "cell_type": "markdown",
      "metadata": {
        "id": "view-in-github",
        "colab_type": "text"
      },
      "source": [
        "<a href=\"https://colab.research.google.com/github/AzouzSaoussen/Paradigme-du-programmation/blob/main/TP4.ipynb\" target=\"_parent\"><img src=\"https://colab.research.google.com/assets/colab-badge.svg\" alt=\"Open In Colab\"/></a>"
      ]
    },
    {
      "cell_type": "code",
      "execution_count": 2,
      "metadata": {
        "id": "wkxaFhbuEoUb"
      },
      "outputs": [],
      "source": [
        "#@title bouclage-sequential programming \n",
        "import random \n",
        "import threading\n",
        "from time import time\n",
        "import logging\n",
        "\n",
        "def list_append(count, out_list):\n",
        "  for i in range(count):\n",
        "    out_list.append(random.random())\n",
        "\n"
      ]
    },
    {
      "cell_type": "code",
      "source": [
        "size=1000000000\n",
        "out_list=list()\n",
        "ts = time()\n",
        "list_append(size,out_list)\n",
        "print(\"work is done\")\n",
        "t =time() - ts\n",
        "print(\"Took\",t,\"seconds to execute\")\n",
        "  "
      ],
      "metadata": {
        "colab": {
          "base_uri": "https://localhost:8080/"
        },
        "id": "Q4Af3sxgGSwn",
        "outputId": "c200d5eb-c1c6-4890-c8ff-dea2169af0eb"
      },
      "execution_count": 3,
      "outputs": [
        {
          "output_type": "stream",
          "name": "stdout",
          "text": [
            "work is done\n",
            "Took 18.938889741897583 seconds to execute\n"
          ]
        }
      ]
    },
    {
      "cell_type": "code",
      "source": [
        "#@title Threading-parallel processing \n",
        "from threading import Thread\n",
        "import time\n",
        "class Work(Thread):\n",
        "    def __init__(self):\n",
        "        Thread.__init__(self)\n",
        "    \n",
        "    def run(self):\n",
        "        time.sleep(10)\n",
        "\n",
        "ts = time.time()\n",
        "#creation of the threads\n",
        "thread_1 = Work()\n",
        "thread_2 = Work()\n",
        "thread_3 = Work()\n",
        "thread_4 = Work()\n",
        "\n",
        "#starting all threads \n",
        "thread_1.start()\n",
        "thread_2.start()\n",
        "thread_3.start()\n",
        "thread_4.start()\n",
        "\n",
        "#Waiting for all threads to end \n",
        "thread_1.join()\n",
        "thread_2.join()\n",
        "thread_3.join()\n",
        "thread_4.join()\n",
        "\n",
        "print(time.time()-ts)"
      ],
      "metadata": {
        "colab": {
          "base_uri": "https://localhost:8080/"
        },
        "id": "asH06h6yTaN0",
        "outputId": "a79e956e-53fe-4a93-d040-1b96480543d2"
      },
      "execution_count": 8,
      "outputs": [
        {
          "output_type": "stream",
          "name": "stdout",
          "text": [
            "10.013219356536865\n"
          ]
        }
      ]
    }
  ]
}