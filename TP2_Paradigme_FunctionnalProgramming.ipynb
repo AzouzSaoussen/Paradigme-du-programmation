{
  "nbformat": 4,
  "nbformat_minor": 0,
  "metadata": {
    "colab": {
      "provenance": [],
      "authorship_tag": "ABX9TyOU2IzdMFhtNhsqu7/PEQ9S",
      "include_colab_link": true
    },
    "kernelspec": {
      "name": "python3",
      "display_name": "Python 3"
    },
    "language_info": {
      "name": "python"
    }
  },
  "cells": [
    {
      "cell_type": "markdown",
      "metadata": {
        "id": "view-in-github",
        "colab_type": "text"
      },
      "source": [
        "<a href=\"https://colab.research.google.com/github/AzouzSaoussen/Paradigme-du-programmation/blob/main/TP2_Paradigme_FunctionnalProgramming.ipynb\" target=\"_parent\"><img src=\"https://colab.research.google.com/assets/colab-badge.svg\" alt=\"Open In Colab\"/></a>"
      ]
    },
    {
      "cell_type": "code",
      "execution_count": 10,
      "metadata": {
        "id": "DO_0SnD9aCZv"
      },
      "outputs": [],
      "source": [
        "class Employee:\n",
        "   countEmp=0\n",
        "   def __init__(self, name, salary):\n",
        "         self.name=name\n",
        "         self.salary=salary\n",
        "         Employee.countEmp+=1\n",
        "\n",
        "   def displayCount(self):\n",
        "       print(\"There are %d employees\" % Employee.countEmp)\n",
        "\n",
        "   def displayDetails(self):\n",
        "      print(\"Name:\", self.name, \", Salary:\", self.salary)\n"
      ]
    },
    {
      "cell_type": "code",
      "source": [
        "e1 = Employee(\"zara\", 80000)\n",
        "e2=Employee(\"saoussen\",100000)\n",
        "e3=Employee(\"ahmed\",30000)\n",
        "e4=Employee(\"hamma \", 25000)\n",
        "e4.displayCount()\n",
        "print(\"Details of all employee:\")\n",
        "e1.displayDetails()\n",
        "e2.displayDetails()\n",
        "e3.displayDetails()\n",
        "e4.displayDetails()"
      ],
      "metadata": {
        "colab": {
          "base_uri": "https://localhost:8080/"
        },
        "id": "g5F-K0UfaucG",
        "outputId": "a6bb7903-c604-4548-bc71-861a9141e725"
      },
      "execution_count": 12,
      "outputs": [
        {
          "output_type": "stream",
          "name": "stdout",
          "text": [
            "There are 8 employees\n",
            "Details of all employee:\n",
            "Name: zara , Salary: 80000\n",
            "Name: saoussen , Salary: 100000\n",
            "Name: ahmed , Salary: 30000\n",
            "Name: hamma  , Salary: 25000\n"
          ]
        }
      ]
    },
    {
      "cell_type": "code",
      "source": [
        "hasattr(e1, 'age')"
      ],
      "metadata": {
        "colab": {
          "base_uri": "https://localhost:8080/"
        },
        "id": "7ScEjpM9eoUX",
        "outputId": "0ff3ad86-d3ad-4dbe-e6e5-0eaa5ac6bb82"
      },
      "execution_count": 13,
      "outputs": [
        {
          "output_type": "execute_result",
          "data": {
            "text/plain": [
              "False"
            ]
          },
          "metadata": {},
          "execution_count": 13
        }
      ]
    },
    {
      "cell_type": "code",
      "source": [
        "getattr(e1,'salary')"
      ],
      "metadata": {
        "colab": {
          "base_uri": "https://localhost:8080/"
        },
        "id": "pRvoYpivev3e",
        "outputId": "ae2a623b-d3bb-4871-ba0b-83ef1cce1e8f"
      },
      "execution_count": 14,
      "outputs": [
        {
          "output_type": "execute_result",
          "data": {
            "text/plain": [
              "80000"
            ]
          },
          "metadata": {},
          "execution_count": 14
        }
      ]
    },
    {
      "cell_type": "code",
      "source": [
        "setattr(e1,'salary',120000)"
      ],
      "metadata": {
        "id": "hSZ4tG9Ge2Yh"
      },
      "execution_count": 15,
      "outputs": []
    },
    {
      "cell_type": "code",
      "source": [
        "getattr(e1,'salary')"
      ],
      "metadata": {
        "colab": {
          "base_uri": "https://localhost:8080/"
        },
        "id": "a19yCfy7e8i-",
        "outputId": "8a5567da-78ba-4c18-cc8d-2e24007ccbd0"
      },
      "execution_count": 16,
      "outputs": [
        {
          "output_type": "execute_result",
          "data": {
            "text/plain": [
              "120000"
            ]
          },
          "metadata": {},
          "execution_count": 16
        }
      ]
    },
    {
      "cell_type": "code",
      "source": [
        "delattr(e2,'salary')"
      ],
      "metadata": {
        "id": "l2kKpzc3e-xp"
      },
      "execution_count": 17,
      "outputs": []
    },
    {
      "cell_type": "code",
      "source": [
        "hasattr(e2, 'salary')"
      ],
      "metadata": {
        "colab": {
          "base_uri": "https://localhost:8080/"
        },
        "id": "7monYO5FfENd",
        "outputId": "77bac118-9e60-4a00-eb0a-c471d04aa823"
      },
      "execution_count": 20,
      "outputs": [
        {
          "output_type": "execute_result",
          "data": {
            "text/plain": [
              "False"
            ]
          },
          "metadata": {},
          "execution_count": 20
        }
      ]
    },
    {
      "cell_type": "code",
      "source": [
        "e1.displayDetails()"
      ],
      "metadata": {
        "colab": {
          "base_uri": "https://localhost:8080/"
        },
        "id": "BtP5bgM4fRk2",
        "outputId": "733db273-d5fc-441c-f8b1-11a930c9033e"
      },
      "execution_count": 21,
      "outputs": [
        {
          "output_type": "stream",
          "name": "stdout",
          "text": [
            "Name: zara , Salary: 120000\n"
          ]
        }
      ]
    },
    {
      "cell_type": "code",
      "source": [
        "e2.displayDetails()"
      ],
      "metadata": {
        "colab": {
          "base_uri": "https://localhost:8080/",
          "height": 252
        },
        "id": "78TWyd7KfYm2",
        "outputId": "443b1e40-129c-4ead-e95c-96af51da556b"
      },
      "execution_count": 22,
      "outputs": [
        {
          "output_type": "error",
          "ename": "AttributeError",
          "evalue": "ignored",
          "traceback": [
            "\u001b[0;31m---------------------------------------------------------------------------\u001b[0m",
            "\u001b[0;31mAttributeError\u001b[0m                            Traceback (most recent call last)",
            "\u001b[0;32m<ipython-input-22-26a5bf5b009f>\u001b[0m in \u001b[0;36m<module>\u001b[0;34m\u001b[0m\n\u001b[0;32m----> 1\u001b[0;31m \u001b[0me2\u001b[0m\u001b[0;34m.\u001b[0m\u001b[0mdisplayDetails\u001b[0m\u001b[0;34m(\u001b[0m\u001b[0;34m)\u001b[0m\u001b[0;34m\u001b[0m\u001b[0;34m\u001b[0m\u001b[0m\n\u001b[0m",
            "\u001b[0;32m<ipython-input-10-71d3fb9b1e5d>\u001b[0m in \u001b[0;36mdisplayDetails\u001b[0;34m(self)\u001b[0m\n\u001b[1;32m     10\u001b[0m \u001b[0;34m\u001b[0m\u001b[0m\n\u001b[1;32m     11\u001b[0m    \u001b[0;32mdef\u001b[0m \u001b[0mdisplayDetails\u001b[0m\u001b[0;34m(\u001b[0m\u001b[0mself\u001b[0m\u001b[0;34m)\u001b[0m\u001b[0;34m:\u001b[0m\u001b[0;34m\u001b[0m\u001b[0;34m\u001b[0m\u001b[0m\n\u001b[0;32m---> 12\u001b[0;31m       \u001b[0mprint\u001b[0m\u001b[0;34m(\u001b[0m\u001b[0;34m\"Name:\"\u001b[0m\u001b[0;34m,\u001b[0m \u001b[0mself\u001b[0m\u001b[0;34m.\u001b[0m\u001b[0mname\u001b[0m\u001b[0;34m,\u001b[0m \u001b[0;34m\", Salary:\"\u001b[0m\u001b[0;34m,\u001b[0m \u001b[0mself\u001b[0m\u001b[0;34m.\u001b[0m\u001b[0msalary\u001b[0m\u001b[0;34m)\u001b[0m\u001b[0;34m\u001b[0m\u001b[0;34m\u001b[0m\u001b[0m\n\u001b[0m",
            "\u001b[0;31mAttributeError\u001b[0m: 'Employee' object has no attribute 'salary'"
          ]
        }
      ]
    },
    {
      "cell_type": "code",
      "source": [
        "e5 = Employee(\"test\", 80000)"
      ],
      "metadata": {
        "id": "IqG2qxQ1gKLR"
      },
      "execution_count": 23,
      "outputs": []
    },
    {
      "cell_type": "code",
      "source": [
        "e5.displayDetails()"
      ],
      "metadata": {
        "colab": {
          "base_uri": "https://localhost:8080/"
        },
        "id": "J-Xse-bxgYd2",
        "outputId": "62462ced-7a58-474b-c8b8-eac4703f5e88"
      },
      "execution_count": 24,
      "outputs": [
        {
          "output_type": "stream",
          "name": "stdout",
          "text": [
            "Name: test , Salary: 80000\n"
          ]
        }
      ]
    },
    {
      "cell_type": "code",
      "source": [
        "print(Employee.__doc__) \n",
        "print(Employee.__name__)\n",
        "print(Employee.__module__)             \n",
        "print(Employee.__class__)              \n",
        "print(Employee.__dict__) \n",
        "print(Employee.__bases__)\n",
        "#------                            \n",
        "print(Employee.__class__.__doc__)      \n",
        "print(Employee.__class__.__dict__)     \n",
        "#------\n",
        "print(Employee.__class__.__name__)     \n",
        "print(Employee.__class__.__bases__)    "
      ],
      "metadata": {
        "colab": {
          "base_uri": "https://localhost:8080/"
        },
        "id": "BhVQRrVngarB",
        "outputId": "d1928a56-7a8f-41be-e91e-14c227615e0f"
      },
      "execution_count": 26,
      "outputs": [
        {
          "output_type": "stream",
          "name": "stdout",
          "text": [
            "None\n",
            "Employee\n",
            "__main__\n",
            "<class 'type'>\n",
            "{'__module__': '__main__', 'countEmp': 9, '__init__': <function Employee.__init__ at 0x7fce3e8747a0>, 'displayCount': <function Employee.displayCount at 0x7fce3e874830>, 'displayDetails': <function Employee.displayDetails at 0x7fce3e8748c0>, '__dict__': <attribute '__dict__' of 'Employee' objects>, '__weakref__': <attribute '__weakref__' of 'Employee' objects>, '__doc__': None}\n",
            "(<class 'object'>,)\n",
            "type(object_or_name, bases, dict)\n",
            "type(object) -> the object's type\n",
            "type(name, bases, dict) -> a new type\n",
            "{'__repr__': <slot wrapper '__repr__' of 'type' objects>, '__call__': <slot wrapper '__call__' of 'type' objects>, '__getattribute__': <slot wrapper '__getattribute__' of 'type' objects>, '__setattr__': <slot wrapper '__setattr__' of 'type' objects>, '__delattr__': <slot wrapper '__delattr__' of 'type' objects>, '__init__': <slot wrapper '__init__' of 'type' objects>, '__new__': <built-in method __new__ of type object at 0xa99860>, 'mro': <method 'mro' of 'type' objects>, '__subclasses__': <method '__subclasses__' of 'type' objects>, '__prepare__': <method '__prepare__' of 'type' objects>, '__instancecheck__': <method '__instancecheck__' of 'type' objects>, '__subclasscheck__': <method '__subclasscheck__' of 'type' objects>, '__dir__': <method '__dir__' of 'type' objects>, '__sizeof__': <method '__sizeof__' of 'type' objects>, '__basicsize__': <member '__basicsize__' of 'type' objects>, '__itemsize__': <member '__itemsize__' of 'type' objects>, '__flags__': <member '__flags__' of 'type' objects>, '__weakrefoffset__': <member '__weakrefoffset__' of 'type' objects>, '__base__': <member '__base__' of 'type' objects>, '__dictoffset__': <member '__dictoffset__' of 'type' objects>, '__mro__': <member '__mro__' of 'type' objects>, '__name__': <attribute '__name__' of 'type' objects>, '__qualname__': <attribute '__qualname__' of 'type' objects>, '__bases__': <attribute '__bases__' of 'type' objects>, '__module__': <attribute '__module__' of 'type' objects>, '__abstractmethods__': <attribute '__abstractmethods__' of 'type' objects>, '__dict__': <attribute '__dict__' of 'type' objects>, '__doc__': <attribute '__doc__' of 'type' objects>, '__text_signature__': <attribute '__text_signature__' of 'type' objects>}\n",
            "type\n",
            "(<class 'object'>,)\n"
          ]
        }
      ]
    },
    {
      "cell_type": "code",
      "source": [
        "class Point:\n",
        "  def __init__(self, x=0, y=0):\n",
        "    self.x = x\n",
        "    self.y = y\n",
        "  def __del__(self):\n",
        "    class_name = self.__class__.__name__\n",
        "    print(class_name, \"destroyed and dead\")\n",
        "  def move(self, dx, dy):\n",
        "        '''Determines where x and y move'''\n",
        "        self.x = self.x + dx\n",
        "        self.y = self.y + dy   \n"
      ],
      "metadata": {
        "id": "6DpZCkmDj2yT"
      },
      "execution_count": 29,
      "outputs": []
    },
    {
      "cell_type": "code",
      "source": [
        "pt1 = Point()\n",
        "pt2 = pt1\n",
        "pt3 = pt2\n",
        "print(id(pt1), id(pt2), id(pt3))\n"
      ],
      "metadata": {
        "colab": {
          "base_uri": "https://localhost:8080/"
        },
        "id": "7yxCnMZXkX6G",
        "outputId": "da7bb303-efda-4292-ac89-3422daf8bc08"
      },
      "execution_count": 30,
      "outputs": [
        {
          "output_type": "stream",
          "name": "stdout",
          "text": [
            "140523789504784 140523789504784 140523789504784\n",
            "Point destroyed and dead\n"
          ]
        }
      ]
    },
    {
      "cell_type": "code",
      "source": [
        "del pt1\n",
        "del pt2\n",
        "del pt3"
      ],
      "metadata": {
        "colab": {
          "base_uri": "https://localhost:8080/"
        },
        "id": "eQonlWddlExa",
        "outputId": "3d484934-116d-4ccb-dcae-c29ef97824ec"
      },
      "execution_count": 31,
      "outputs": [
        {
          "output_type": "stream",
          "name": "stdout",
          "text": [
            "Point destroyed and dead\n"
          ]
        }
      ]
    },
    {
      "cell_type": "code",
      "source": [
        "print(id(pt1), id(pt2), id(pt3))"
      ],
      "metadata": {
        "colab": {
          "base_uri": "https://localhost:8080/",
          "height": 165
        },
        "id": "gk-KjW2tlNUq",
        "outputId": "b0cb5a12-b98d-4c1e-8a0a-9cfb5874a25f"
      },
      "execution_count": 32,
      "outputs": [
        {
          "output_type": "error",
          "ename": "NameError",
          "evalue": "ignored",
          "traceback": [
            "\u001b[0;31m---------------------------------------------------------------------------\u001b[0m",
            "\u001b[0;31mNameError\u001b[0m                                 Traceback (most recent call last)",
            "\u001b[0;32m<ipython-input-32-4a7ddd061a06>\u001b[0m in \u001b[0;36m<module>\u001b[0;34m\u001b[0m\n\u001b[0;32m----> 1\u001b[0;31m \u001b[0mprint\u001b[0m\u001b[0;34m(\u001b[0m\u001b[0mid\u001b[0m\u001b[0;34m(\u001b[0m\u001b[0mpt1\u001b[0m\u001b[0;34m)\u001b[0m\u001b[0;34m,\u001b[0m \u001b[0mid\u001b[0m\u001b[0;34m(\u001b[0m\u001b[0mpt2\u001b[0m\u001b[0;34m)\u001b[0m\u001b[0;34m,\u001b[0m \u001b[0mid\u001b[0m\u001b[0;34m(\u001b[0m\u001b[0mpt3\u001b[0m\u001b[0;34m)\u001b[0m\u001b[0;34m)\u001b[0m\u001b[0;34m\u001b[0m\u001b[0;34m\u001b[0m\u001b[0m\n\u001b[0m",
            "\u001b[0;31mNameError\u001b[0m: name 'pt1' is not defined"
          ]
        }
      ]
    },
    {
      "cell_type": "markdown",
      "source": [
        "**<h1>Heritage</h2>**"
      ],
      "metadata": {
        "id": "FogyUTN8lUZI"
      }
    },
    {
      "cell_type": "code",
      "source": [
        "class Parent:\n",
        "  parentAttr = 100\n",
        "  def __init__(self):\n",
        "    print (\"calling parent constructor\")\n",
        "\n",
        "  def parent_method(self):\n",
        "    print(\"calling parent method\")\n",
        "  def setAttr(self, attr):\n",
        "    Parent.parentAttr = attr\n",
        "  def getAttr(self):\n",
        "    print(\"parent attr \", Parent.parentAttr)\n",
        "\n",
        "class Child(Parent):\n",
        "  def __init__(self):\n",
        "    print(\"calling child constructor\")\n",
        "  def child_method(self):\n",
        "    print(\"calling child_method\")  \n",
        "\n",
        "c = Child()\n",
        "c.child_method()\n",
        "c.parent_method\n",
        "c.setAttr(200)\n",
        "c.getAttr()"
      ],
      "metadata": {
        "colab": {
          "base_uri": "https://localhost:8080/"
        },
        "id": "EfwmBklqlTAX",
        "outputId": "106b81fc-901d-4ead-fdf7-f852006b07b5"
      },
      "execution_count": 33,
      "outputs": [
        {
          "output_type": "stream",
          "name": "stdout",
          "text": [
            "calling child constructor\n",
            "calling child_method\n",
            "parent attr  200\n"
          ]
        }
      ]
    }
  ]
}